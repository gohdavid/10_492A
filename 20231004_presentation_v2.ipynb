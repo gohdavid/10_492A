{
 "cells": [
  {
   "cell_type": "markdown",
   "metadata": {},
   "source": [
    "# Modelling the detection chamber\n",
    "\n",
    "::: {#fig-chip}\n",
    "![](Chip.jpg){width=200px}\n",
    "\n",
    "Inflastat chip [@tu_wireless_2023].\n",
    ":::\n",
    "\n",
    "## CRP-dAb and cAb\n",
    "\n",
    "::: {#fig-zero}\n",
    "![](10492A/1%20-%20Fig0.png){width=300px}\n",
    "\n",
    "\n",
    "CRP-detector antibody and capture antibodies.\n",
    ":::\n",
    "\n"
   ]
  },
  {
   "cell_type": "markdown",
   "metadata": {},
   "source": [
    "## CRP-dAb concentration in the detection reservoir (Part 1)\n",
    "\n",
    "::: {#fig-CFD}\n",
    "![](CFD.jpg)\n",
    "\n",
    "Numerical simulation of CRP-dAb concentrations without cAb and fluorescence flow test without dAb [@tu_wireless_2023].\n",
    ":::\n",
    "\n"
   ]
  },
  {
   "cell_type": "markdown",
   "metadata": {},
   "source": [
    "## CRP-dAb concentration in the detection reservoir (Part 2)\n",
    "\n",
    "::: {#fig-essence}\n",
    "![](10492A/6%20-%20Fig5.png){width=300px}\n",
    "\n",
    "\n",
    "System studied in the literature through numerical simulation and fluorescence flow test.\n",
    ":::"
   ]
  },
  {
   "cell_type": "markdown",
   "metadata": {},
   "source": [
    "## Reaction-diffusion-advection numerical simulations\n",
    "\n",
    "::: {#fig-purpose}\n",
    "![](10492A/5%20-%20Fig4.png)\n",
    "\n",
    "Objective of numerical simulations.\n",
    ":::"
   ]
  },
  {
   "cell_type": "markdown",
   "metadata": {},
   "source": [
    "\n",
    "## Fluid dynamics\n",
    "- The velocity field $\\mathbf v$ has no dependence on concentration because sweat is dilute.\n",
    "- Solve for $\\mathbf v$ using the Navier-Stokes equation for incompressible flow and the continuity equation.\n",
    "$$\n",
    "\\rho(\\partial_t \\mathbf v+(\\mathbf v\\cdot\\nabla)\\mathbf v)=-\\nabla \\mathbf{p}+\\mu \\nabla^2 \\mathbf v\n",
    "\\label{eq:navier_stokes}\n",
    "$$\n",
    "$$  \n",
    "\\nabla \\cdot \\mathbf v= \\mathbf{0}\n",
    "\\label{eq:continuity}\n",
    "$$\n"
   ]
  },
  {
   "cell_type": "markdown",
   "metadata": {},
   "source": [
    "## Non-dimensionalized Navier Stokes\n",
    "- Assume steady state. Parameters aggregate into the Reynolds number.\n",
    "\n",
    "$$\n",
    "\\frac{\\rho U L}{\\mu}(\\tilde{\\mathbf {v}}\\cdot\\tilde\\nabla)\\tilde{\\mathbf{v}}=-\\frac{\\Pi L}{U \\mu}\\tilde\\nabla \\tilde{\\mathbf{p}}+\\tilde\\nabla^2 \\tilde{\\mathbf{v}}\n",
    "$$\n",
    "\n",
    "- Use the viscous pressure scale\n",
    "\n",
    "$$\\Pi= \\frac{U \\mu}{L}$$\n",
    "$$\n",
    "\\mathrm{Re}(\\tilde{\\mathbf {v}}\\cdot\\tilde\\nabla)\\tilde{\\mathbf{v}}=-\\tilde\\nabla \\tilde{\\mathbf{p}}+\\tilde\\nabla^2 \\tilde{\\mathbf{v}}\n",
    "$$\n"
   ]
  },
  {
   "cell_type": "markdown",
   "metadata": {},
   "source": [
    "\n",
    "## Creeping (Stokes) flow\n",
    "\n",
    "- Using sweat volumetric flowrate, the mean chamber chord length, and the width of the PET layer ($\\dot V, \\ \\bar{C}, \\ W$).\n",
    "\n",
    "$$\n",
    "\\mathrm{Re}=\\frac{\\rho U L}{\\mu }=\\frac{10^{3}\\cdot 10^{-4} \\cdot 10^{-4}}{10^{-3}}=10^{-2} \\ll 1\n",
    "$$\n",
    "\n",
    "- Fluid flow in the microfluidic channel is in the Stokes flow regime. \n",
    "$$\n",
    "-\\tilde\\nabla \\tilde{\\mathbf{p}}+\\tilde\\nabla^2 \\tilde{\\mathbf{v}}=\\mathbf{0}\n",
    "\\label{eq:stokes}\n",
    "$$\n",
    "\n",
    "- Solve alongside the non-dimensionalized continuity equation.\n",
    "$$\n",
    "\\tilde{\\nabla} \\cdot \\tilde{\\mathbf{v}}=\\mathbf{0}\n",
    "\\label{eq:nondimensionalized_continuity}\n",
    "$$\n"
   ]
  },
  {
   "cell_type": "markdown",
   "metadata": {},
   "source": [
    "## Rate of CRP-dAb and cAb binding\n",
    "\n",
    "::: {#fig-reactionf}\n",
    "![](10492A/2%20-%20Fig1.png){width=300px}\n",
    "\n",
    "\n",
    "Binding rate first order to CRP-dAb and cAb concentration.\n",
    ":::\n",
    "\n"
   ]
  },
  {
   "cell_type": "markdown",
   "metadata": {},
   "source": [
    "## Rate of complex dissociation\n",
    "\n",
    "\n",
    "::: {#fig-reactionr}\n",
    "![](10492A/3%20-%20Fig2.png){width=300px}\n",
    "\n",
    "\n",
    "Dissociation rate first order to complex concentration.\n",
    ":::\n"
   ]
  },
  {
   "cell_type": "markdown",
   "metadata": {},
   "source": [
    "## Rate of reaction\n",
    "\n",
    "$$\n",
    "\\begin{aligned}\n",
    "    \\ce{CRP-dAb + cAb &<=>[k_f][k_r] Complex}\\\\\n",
    "\\end{aligned}\n",
    "$$\n",
    "\n",
    "- $p, \\ a, \\ c$ represent CRP-dAb, cAb, and Complex respectively.\n",
    "$$\n",
    "    \\mathbf{R}(\\boldsymbol{\\phi}_p,\\boldsymbol{\\phi}_{a},\\boldsymbol{\\phi}_{c})=k_f(T)\\boldsymbol{\\phi}_p\\boldsymbol{\\phi}_a-k_r(T)\\boldsymbol{\\phi}_c\n",
    "$$"
   ]
  },
  {
   "cell_type": "markdown",
   "metadata": {},
   "source": [
    "## Reaction-diffusion-advection dynamics (Part 1)\n",
    "\n",
    "\n",
    "::: {#fig-mobility}\n",
    "![](10492A/4%20-%20Fig3.png){width=300px}\n",
    "\n",
    "\n",
    "Mobility of different species.\n",
    ":::\n",
    "\n"
   ]
  },
  {
   "cell_type": "markdown",
   "metadata": {},
   "source": [
    "## Reaction-diffusion-advection dynamics (Part 2)\n",
    "$$\n",
    "    \\partial _t \\boldsymbol{\\phi}_p(\\mathbf x, t)= D \\nabla^2\\boldsymbol{\\phi}_p-\\mathbf v\\cdot \\nabla \\boldsymbol{\\phi}_p-\\mathbf{R}\n",
    "$$\n",
    "$$\n",
    "    \\partial _t \\boldsymbol{\\phi}_{a}(\\mathbf x, t)= -\\mathbf{R}\n",
    "$$\n",
    "$$\n",
    "    \\partial _t \\boldsymbol{\\phi}_{c}(\\mathbf x, t)= \\mathbf{R}\n",
    "$$"
   ]
  },
  {
   "cell_type": "markdown",
   "metadata": {},
   "source": [
    "## Non-dimensionalized reaction-diffusion-advection\n",
    "- Parameters aggregate into two time scales.\n",
    "$$\n",
    "    \\partial _{\\tilde t} \\tilde{\\boldsymbol{\\phi}_p}= \\frac{\\tau D}{L^2} \\tilde{\\nabla^2}\\tilde{\\boldsymbol{\\phi}_p}-\\frac{\\tau U }{L}\\tilde{\\mathbf v}\\cdot \\tilde{\\nabla} \\tilde{\\boldsymbol{\\phi}_p}-\\tilde{\\mathbf{R}}\n",
    "$$\n",
    "$$\n",
    "\\begin{aligned}\n",
    "     \\partial _{\\tilde t} \\tilde{\\boldsymbol{\\phi}_{a}}&= -\\tilde{\\mathbf{R}}\n",
    "     & &\\text{and} &\n",
    "     \\partial _{\\tilde t} \\tilde{\\boldsymbol{\\phi}_{c}}&= \\tilde{\\mathbf{R}}\n",
    "\\end{aligned}\n",
    "$$\n",
    "$$\n",
    "    \\tilde{\\mathbf{R}}=\\tilde{k_f}(T)\\tilde{\\boldsymbol{\\phi}_p}\\tilde{\\boldsymbol{\\phi}_a}-\\tilde{k_r}(T)\\tilde{\\boldsymbol{\\phi}}_c\n",
    "$$\n",
    "\n",
    "- The Peclet number compares diffusion and advection contribution.\n",
    "$$\n",
    "    \\mathrm{Pe}=\\frac{\\tau _ \\mathrm{diff}}{\\tau _ \\mathrm{adv}}=\\frac{L^2/D}{L/U}=\\frac{LU}{D}=\\frac{(10^{-4})(10^{-4})}{(10^{-12})}=10^{4}\n",
    "$$\n",
    "- Advection dominates the flow. Use $\\tau=\\tau_\\mathrm{adv} = \\frac{L}{U}$.\n",
    "$$\n",
    "    \\partial _{\\tilde t} \\tilde{\\boldsymbol{\\phi}_p}= \\frac{1}{\\mathrm{{Pe}}} \\tilde{\\nabla^2}\\tilde{\\boldsymbol{\\phi}_p}-\\tilde{\\mathbf v}\\cdot \\tilde{\\nabla} \\tilde{\\boldsymbol{\\phi}_p}-\\tilde{\\mathbf{R}}\n",
    "$$"
   ]
  },
  {
   "cell_type": "markdown",
   "metadata": {},
   "source": [
    "## S1: Characteristic scales (Part 1)\n",
    "\n",
    "- Define dimensionless variables using characteristic length, pressure, velocity, and time scales ($L, \\Pi, U, \\tau$).\n",
    "\n",
    "$$\n",
    "\\begin{aligned}\n",
    "\\tilde{\\mathbf{v}}=\\frac{\\mathbf{v}}{U} \\implies& \\mathbf{v} = U\\tilde{\\mathbf{v}}\\\\\n",
    "\\tilde{\\mathbf{p}} = \\frac{\\mathbf{p} -\\mathbf{p} _0}{\\Pi} \\implies& \\mathbf{p} = \\Pi\\tilde{\\mathbf{p}} + \\mathbf{p}_0 \\\\\n",
    "\\tilde{t}= \\frac{t}{\\tau} \\implies& t =\\tau \\tilde{t} \\\\\n",
    "\\tilde{\\nabla} = L\\nabla \\implies& \\nabla = \\frac{1}{L}\\tilde{\\nabla}\n",
    "\\end{aligned}\n",
    "$$\n"
   ]
  },
  {
   "cell_type": "markdown",
   "metadata": {},
   "source": [
    "## S2: Characteristic scales (Part 2)\n",
    "\n",
    "- Define dimensionless parameters using characteristic concentration and time scales ($\\phi_{a,0}, \\tau$).\n",
    "\n",
    "$$\n",
    "\\begin{aligned}\n",
    "\\tilde{\\boldsymbol{\\phi}_p} =\\frac{\\boldsymbol{\\phi}_p}{\\phi_{a,0}}\\implies& \\boldsymbol{\\phi}_p=\\phi_{a,0}\\tilde{\\boldsymbol{\\phi}_p}\\\\\n",
    "\\tilde{\\boldsymbol{\\phi}_a} =\\frac{\\boldsymbol{\\phi}_a}{\\phi_{a,0}}\\implies& \\boldsymbol{\\phi}_a=\\phi_{a,0}\\tilde{\\boldsymbol{\\phi}_a}\\\\\n",
    "\\tilde{k_f} = \\tau\\phi_{a,0} k_f \\implies& {k_f}=\\frac{\\tilde{k_f}}{\\phi_{a,0} \\tau}\\\\\n",
    "\\tilde{k_r} = \\tau k_r \\implies& k_r = \\frac{\\tilde{k_r}}{\\tau}\\\\\n",
    "\\tilde{\\mathbf{R}}=\\frac{\\tau}{\\phi_{a,0}}\\mathbf{R} \\implies& \\mathbf{R}=\\frac{\\phi_{a,0}}{\\tau}\\tilde{\\mathbf{R}}\n",
    "\\end{aligned}\n",
    "$$\n"
   ]
  },
  {
   "cell_type": "markdown",
   "metadata": {},
   "source": [
    "## S3: Deriving non-dimensional Navier-Stokes\n",
    "- Navier-Stokes\n",
    "$$\n",
    "\\rho(\\partial_t \\mathbf v+(\\mathbf v\\cdot\\nabla)\\mathbf v)=-\\nabla \\mathbf{p}+\\mu \\nabla^2 \\mathbf v\n",
    "\\label{eq:navier_stokes}\n",
    "$$\n",
    "- Substitute with non-dimensional variables\n",
    "$$\n",
    "\\rho(\\frac{U}{\\tau} \\partial_{\\tilde t} \\tilde{\\mathbf{v}}+\\frac{U^2}{L}(\\tilde{\\mathbf {v}}\\cdot\\tilde\\nabla)\\tilde{\\mathbf{v}})=-\\frac{\\Pi}{L}\\tilde\\nabla \\tilde{\\mathbf{p}}+\\frac{U}{L^2}\\mu \\tilde\\nabla^2 \\tilde{\\mathbf{v}}\n",
    "$$\n",
    "- Assume steady state\n",
    "$$\n",
    "\\rho\\frac{U^2}{L}(\\tilde{\\mathbf {v}}\\cdot\\tilde\\nabla)\\tilde{\\mathbf{v}}=-\\frac{\\Pi}{L}\\tilde\\nabla \\tilde{\\mathbf{p}}+\\frac{U}{L^2}\\mu \\tilde\\nabla^2 \\tilde{\\mathbf{v}}\n",
    "$$"
   ]
  },
  {
   "cell_type": "markdown",
   "metadata": {},
   "source": [
    "## S4: Deriving non-dimensional reaction-diffusion-advection\n",
    "- Substitute with non-dimensional variables\n",
    "\n",
    "$$\n",
    "    \\frac{\\phi_{a,0}}{\\tau}\\partial _{\\tilde t} \\tilde{\\boldsymbol{\\phi}_p}= \\frac{\\phi_{a,0} D}{L^2} \\tilde{\\nabla^2}\\tilde{\\boldsymbol{\\phi}_p}-\\frac{U \\phi_{a,0}}{L}\\tilde{\\mathbf v}\\cdot \\tilde{\\nabla} \\tilde{\\boldsymbol{\\phi}_p}-\\frac{\\phi_{a,0}}{\\tau}\\tilde{\\mathbf{R}}\n",
    "    \\label{eq:rough_p_nondimensionalized}\n",
    "$$\n",
    "$$\n",
    "     \\frac{\\phi_{a,0}}{\\tau}\\partial _{\\tilde t} \\tilde{\\boldsymbol{\\phi}_{a}}= -\\frac{\\phi_{a,0}}{\\tau}\\tilde{\\mathbf{R}}\n",
    "     \\label{eq:rough_a_nondimensionalized}\n",
    "$$\n",
    "$$\n",
    "    \\frac{\\phi_{a,0}}{\\tau}\\tilde{\\mathbf{R}}=\\frac{\\phi_{a,0}}{\\tau}\\tilde{k_f}(T)\\tilde{\\boldsymbol{\\phi}_p}\\tilde{\\boldsymbol{\\phi}_a}-\\frac{\\phi_{a,0}}{\\tau}\\tilde{k_r}(T)\\tilde{\\boldsymbol{\\phi}}_c\n",
    "$$"
   ]
  },
  {
   "cell_type": "markdown",
   "metadata": {},
   "source": [
    "## S5: Characteristic length and velocity estimations\n",
    "\n",
    "- Use sweat volumetric flowrate, the mean detection chamber chord length, and the width of the PET layer ($\\dot V, \\ \\bar{C}, \\ W$).\n",
    "$$\n",
    "    \\begin{aligned}\n",
    "        \\dot V&\\approx  \\SI{2}{\\mu \\liter \\per \\minute}\\approx \\SI{3e-11}{\\meter \\per \\second}\\\\\n",
    "        \\bar{C}&=  \\SI{450e-6}{\\meter}\\\\\n",
    "        W&=  \\SI{50e-6}{\\meter}\n",
    "    \\end{aligned}\n",
    "$$\n",
    "- Use effective diameter as characteristic length. Use mean velocity as characteristic velocity.\n",
    "$$\n",
    "\\begin{aligned}\n",
    "L=d_\\mathrm{eff}&=\\frac{4\\bar{C}W}{2(\\bar{C}+W)}\\approx \\SI{1e-4}{\\meter}\\\\\n",
    "U&=\\frac{\\dot V}{\\bar{C}W}\\approx \\SI{1e-4}{\\meter}\n",
    "\\end{aligned}\n",
    "$$"
   ]
  },
  {
   "cell_type": "markdown",
   "metadata": {},
   "source": [
    "## References\n",
    "\n",
    "::: {#refs}\n",
    ":::"
   ]
  }
 ],
 "metadata": {
  "language_info": {
   "name": "python"
  },
  "orig_nbformat": 4
 },
 "nbformat": 4,
 "nbformat_minor": 2
}
