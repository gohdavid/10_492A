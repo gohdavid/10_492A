{
 "cells": [
  {
   "cell_type": "markdown",
   "metadata": {},
   "source": [
    "# Modelling the detection chamber\n",
    "\n",
    "::: {#fig-chip}\n",
    "![](Chip.jpg){width=200px}\n",
    "\n",
    "Inflastat chip [@tu_wireless_2023].\n",
    ":::\n",
    "\n",
    "## CRP-dAb and cAb\n",
    "\n",
    "::: {#fig-zero}\n",
    "![](10492A/1%20-%20Fig0.png){width=300px}\n",
    "\n",
    "\n",
    "CRP-detector antibody and capture antibodies.\n",
    ":::\n",
    "\n"
   ]
  },
  {
   "cell_type": "markdown",
   "metadata": {},
   "source": [
    "## CRP-dAb concentration in the detection reservoir (Part 1)\n",
    "\n",
    "::: {#fig-CFD}\n",
    "![](CFD.jpg)\n",
    "\n",
    "Numerical simulation of CRP-dAb concentrations without cAb and fluorescence flow test without dAb [@tu_wireless_2023].\n",
    ":::\n",
    "\n"
   ]
  },
  {
   "cell_type": "markdown",
   "metadata": {},
   "source": [
    "## CRP-dAb concentration in the detection reservoir (Part 2)\n",
    "\n",
    "::: {#fig-essence}\n",
    "![](10492A/6%20-%20Fig5.png){width=300px}\n",
    "\n",
    "\n",
    "System studied in the literature through numerical simulation and fluorescence flow test.\n",
    ":::"
   ]
  },
  {
   "cell_type": "markdown",
   "metadata": {},
   "source": [
    "## Reaction-diffusion-advection numerical simulations\n",
    "\n",
    "::: {#fig-purpose}\n",
    "![](10492A/5%20-%20Fig4.png)\n",
    "\n",
    "Objective of numerical simulations.\n",
    ":::"
   ]
  },
  {
   "cell_type": "markdown",
   "metadata": {},
   "source": [
    "\n",
    "## Fluid dynamics\n",
    "- The velocity field $\\mathbf v$ has no dependence on concentration because sweat is dilute.\n",
    "- Solve for $\\mathbf v$ using the Navier-Stokes equation for incompressible flow and the continuity equation.\n",
    "$$\n",
    "\\rho(\\partial_t \\mathbf v+(\\mathbf v\\cdot\\nabla)\\mathbf v)=-\\nabla \\mathbf{p}+\\mu \\nabla^2 \\mathbf v\n",
    "\\label{eq:navier_stokes}\n",
    "$$\n",
    "$$  \n",
    "\\nabla \\cdot \\mathbf v= \\mathbf{0}\n",
    "\\label{eq:continuity}\n",
    "$$\n"
   ]
  },
  {
   "cell_type": "markdown",
   "metadata": {},
   "source": [
    "## Non-dimensionalized Navier Stokes\n",
    "- Assume steady state. Parameters aggregate into the Reynolds number.\n",
    "\n",
    "$$\n",
    "\\frac{\\rho U L}{\\mu}(\\tilde{\\mathbf {v}}\\cdot\\tilde\\nabla)\\tilde{\\mathbf{v}}=-\\frac{\\Pi L}{U \\mu}\\tilde\\nabla \\tilde{\\mathbf{p}}+\\tilde\\nabla^2 \\tilde{\\mathbf{v}}\n",
    "$$\n",
    "\n",
    "- Use the viscous pressure scale\n",
    "\n",
    "$$\\Pi= \\frac{U \\mu}{L}$$\n",
    "$$\n",
    "\\mathrm{Re}(\\tilde{\\mathbf {v}}\\cdot\\tilde\\nabla)\\tilde{\\mathbf{v}}=-\\tilde\\nabla \\tilde{\\mathbf{p}}+\\tilde\\nabla^2 \\tilde{\\mathbf{v}}\n",
    "$$\n"
   ]
  },
  {
   "cell_type": "markdown",
   "metadata": {},
   "source": [
    "\n",
    "## Creeping (Stokes) flow\n",
    "\n",
    "- Using sweat volumetric flowrate, the mean chamber chord length, and the width of the PET layer ($\\dot V, \\ \\bar{C}, \\ W$).\n",
    "\n",
    "$$\n",
    "\\mathrm{Re}=\\frac{\\rho U L}{\\mu }=\\frac{10^{3}\\cdot 10^{-4} \\cdot 10^{-4}}{10^{-3}}=10^{-2} \\ll 1\n",
    "$$\n",
    "\n",
    "- Fluid flow in the microfluidic channel is in the Stokes flow regime. \n",
    "$$\n",
    "-\\tilde\\nabla \\tilde{\\mathbf{p}}+\\tilde\\nabla^2 \\tilde{\\mathbf{v}}=\\mathbf{0}\n",
    "\\label{eq:stokes}\n",
    "$$\n",
    "\n",
    "- Solve alongside the non-dimensionalized continuity equation.\n",
    "$$\n",
    "\\tilde{\\nabla} \\cdot \\tilde{\\mathbf{v}}=\\mathbf{0}\n",
    "\\label{eq:nondimensionalized_continuity}\n",
    "$$\n",
    "\n",
    "- The Poisson pressure equation\n",
    "$$\\frac{\\Pi}{L^2}\\tilde{\\nabla} ^2 \\tilde{\\mathbf{p}}=- \\rho \\frac{ U^2}{L^2}(\\tilde \\nabla \\cdot  \\tilde{\\mathbf{v}})^2$$\n",
    "$$\\tilde{\\nabla} ^2 \\tilde{\\mathbf{p}}=-\\frac{\\rho UL}{\\mu}(\\tilde \\nabla  \\cdot \\tilde{\\mathbf{v}})^2$$\n",
    "$$\\tilde{\\nabla} ^2 \\tilde{\\mathbf{p}}=0$$"
   ]
  },
  {
   "cell_type": "markdown",
   "metadata": {},
   "source": [
    "## Reaction-diffusion-advection dynamics (Part 1)\n",
    "\n",
    "\n",
    "::: {#fig-mobility}\n",
    "![](10492A/4%20-%20Fig3.png){width=300px}\n",
    "\n",
    "\n",
    "Mobility of different species.\n",
    ":::\n",
    "\n"
   ]
  },
  {
   "cell_type": "markdown",
   "metadata": {},
   "source": [
    "## Reaction-diffusion-advection dynamics (Part 2)\n",
    "$$\n",
    "    \\partial _t \\boldsymbol{\\phi}_p(\\mathbf x, t)= D \\nabla^2\\boldsymbol{\\phi}_p-\\mathbf v\\cdot \\nabla \\boldsymbol{\\phi}_p-\\mathbf{R}\n",
    "$$\n",
    "$$\n",
    "    \\partial _t \\boldsymbol{\\phi}_{a}(\\mathbf x, t)= -\\mathbf{R}\n",
    "$$\n",
    "$$\n",
    "    \\partial _t \\boldsymbol{\\phi}_{c}(\\mathbf x, t)= \\mathbf{R}\n",
    "$$\n",
    "$$\n",
    "    \\mathbf{R}(\\boldsymbol{\\phi}_p,\\boldsymbol{\\phi}_{a},\\boldsymbol{\\phi}_{c})=k_f(T)\\boldsymbol{\\phi}_p\\boldsymbol{\\phi}_a-k_r(T)\\boldsymbol{\\phi}_c\n",
    "$$"
   ]
  },
  {
   "cell_type": "markdown",
   "metadata": {},
   "source": [
    "## Non-dimensionalized reaction-diffusion-advection\n",
    "- Parameters aggregate into two time scales.\n",
    "$$\n",
    "    \\partial _{\\tilde t} \\tilde{\\boldsymbol{\\phi}_p}= \\frac{\\tau D}{L^2} \\tilde{\\nabla^2}\\tilde{\\boldsymbol{\\phi}_p}-\\frac{\\tau U }{L}\\tilde{\\mathbf v}\\cdot \\tilde{\\nabla} \\tilde{\\boldsymbol{\\phi}_p}-\\tilde{\\mathbf{R}}\n",
    "$$\n",
    "$$\n",
    "\\begin{aligned}\n",
    "     \\partial _{\\tilde t} \\tilde{\\boldsymbol{\\phi}_{a}}&= -\\tilde{\\mathbf{R}}\n",
    "     & &\\text{and} &\n",
    "     \\partial _{\\tilde t} \\tilde{\\boldsymbol{\\phi}_{c}}&= \\tilde{\\mathbf{R}}\n",
    "\\end{aligned}\n",
    "$$\n",
    "$$\n",
    "    \\tilde{\\mathbf{R}}=\\tilde{k_f}(T)\\tilde{\\boldsymbol{\\phi}_p}\\tilde{\\boldsymbol{\\phi}_a}-\\tilde{k_r}(T)\\tilde{\\boldsymbol{\\phi}}_c\n",
    "$$\n",
    "\n",
    "- The Peclet number compares diffusion and advection contribution.\n",
    "$$\n",
    "    \\mathrm{Pe}=\\frac{\\tau _ \\mathrm{diff}}{\\tau _ \\mathrm{adv}}=\\frac{L^2/D}{L/U}=\\frac{LU}{D}=\\frac{(10^{-4})(10^{-4})}{(10^{-12})}=10^{4}\n",
    "$$\n",
    "- Advection dominates the flow. Use $\\tau=\\tau_\\mathrm{adv} = \\frac{L}{U}$.\n",
    "$$\n",
    "    \\partial _{\\tilde t} \\tilde{\\boldsymbol{\\phi}_p}= \\frac{1}{\\mathrm{{Pe}}} \\tilde{\\nabla^2}\\tilde{\\boldsymbol{\\phi}_p}-\\tilde{\\mathbf v}\\cdot \\tilde{\\nabla} \\tilde{\\boldsymbol{\\phi}_p}-\\tilde{\\mathbf{R}}\n",
    "$$\n",
    "\n",
    "$$\n",
    "    \\partial _{\\tilde t} \\tilde{\\boldsymbol{\\phi}_p}= -\\tilde{\\mathbf v}\\cdot \\tilde{\\nabla} \\tilde{\\boldsymbol{\\phi}_p}-\\tilde{\\mathbf{R}}\n",
    "$$\n",
    "$$\n",
    "    \\partial _{\\tilde t} \\tilde{\\boldsymbol{\\phi}_a}= -\\tilde{\\mathbf{R}}\n",
    "$$"
   ]
  }
 ],
 "metadata": {
  "language_info": {
   "name": "python"
  },
  "orig_nbformat": 4
 },
 "nbformat": 4,
 "nbformat_minor": 2
}
