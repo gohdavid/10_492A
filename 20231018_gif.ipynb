{
 "cells": [
  {
   "cell_type": "code",
   "execution_count": 1,
   "metadata": {},
   "outputs": [],
   "source": [
    "import imageio\n",
    "import os\n",
    "import numpy as np"
   ]
  },
  {
   "cell_type": "code",
   "execution_count": 15,
   "metadata": {},
   "outputs": [
    {
     "name": "stderr",
     "output_type": "stream",
     "text": [
      "/var/folders/_c/3843qt453ds6klt3y95rpjcw0000gn/T/ipykernel_43707/2014104783.py:5: DeprecationWarning: Starting with ImageIO v3 the behavior of this function will switch to that of iio.v3.imread. To keep the current behavior (and make this warning disappear) use `import imageio.v2 as imageio` or call `imageio.v2.imread` directly.\n",
      "  images.append(imageio.imread(filename))\n"
     ]
    }
   ],
   "source": [
    "string = \"/Users/wudw/Documents/GitRepos/10_492A/figures/circular/{file}\"\n",
    "files = [string.format(file=f\"peclet_10000.0_reynold_0.01_step_{x}.png\") for x in range(201)]\n",
    "images = []\n",
    "for filename in files:\n",
    "    images.append(imageio.imread(filename))\n",
    "imageio.mimsave('/Users/wudw/Documents/GitRepos/10_492A/figures/circular/circular_10000_0.01.gif', images, fps=30)"
   ]
  },
  {
   "cell_type": "code",
   "execution_count": 16,
   "metadata": {},
   "outputs": [
    {
     "name": "stderr",
     "output_type": "stream",
     "text": [
      "/var/folders/_c/3843qt453ds6klt3y95rpjcw0000gn/T/ipykernel_43707/313707392.py:5: DeprecationWarning: Starting with ImageIO v3 the behavior of this function will switch to that of iio.v3.imread. To keep the current behavior (and make this warning disappear) use `import imageio.v2 as imageio` or call `imageio.v2.imread` directly.\n",
      "  images.append(imageio.imread(filename))\n"
     ]
    }
   ],
   "source": [
    "string = \"/Users/wudw/Documents/GitRepos/10_492A/figures/circular/{file}\"\n",
    "files = [string.format(file=f\"peclet_100.0_reynold_0.01_step_{x}.png\") for x in range(201)]\n",
    "images = []\n",
    "for filename in files:\n",
    "    images.append(imageio.imread(filename))\n",
    "imageio.mimsave('/Users/wudw/Documents/GitRepos/10_492A/figures/circular/circular_100_0.01.gif', images, fps=30)"
   ]
  },
  {
   "cell_type": "code",
   "execution_count": 17,
   "metadata": {},
   "outputs": [
    {
     "name": "stderr",
     "output_type": "stream",
     "text": [
      "/var/folders/_c/3843qt453ds6klt3y95rpjcw0000gn/T/ipykernel_43707/4065138026.py:5: DeprecationWarning: Starting with ImageIO v3 the behavior of this function will switch to that of iio.v3.imread. To keep the current behavior (and make this warning disappear) use `import imageio.v2 as imageio` or call `imageio.v2.imread` directly.\n",
      "  images.append(imageio.imread(filename))\n"
     ]
    }
   ],
   "source": [
    "string = \"/Users/wudw/Documents/GitRepos/10_492A/figures/circular/{file}\"\n",
    "files = [string.format(file=f\"peclet_10000.0_reynold_1_step_{x}.png\") for x in range(201)]\n",
    "images = []\n",
    "for filename in files:\n",
    "    images.append(imageio.imread(filename))\n",
    "imageio.mimsave('/Users/wudw/Documents/GitRepos/10_492A/figures/circular/circular_1000_1.gif', images, fps=30)"
   ]
  },
  {
   "cell_type": "code",
   "execution_count": 10,
   "metadata": {},
   "outputs": [
    {
     "name": "stderr",
     "output_type": "stream",
     "text": [
      "/var/folders/_c/3843qt453ds6klt3y95rpjcw0000gn/T/ipykernel_48099/1059590156.py:5: DeprecationWarning: Starting with ImageIO v3 the behavior of this function will switch to that of iio.v3.imread. To keep the current behavior (and make this warning disappear) use `import imageio.v2 as imageio` or call `imageio.v2.imread` directly.\n",
      "  images.append(imageio.imread(filename))\n"
     ]
    }
   ],
   "source": [
    "string = \"/Users/wudw/Documents/GitRepos/10_492A/figures/rectangular/{file}\"\n",
    "files = [string.format(file=f\"peclet_10000.0_step_{x}.png\") for x in range(201)]\n",
    "images = []\n",
    "for filename in files:\n",
    "    images.append(imageio.imread(filename))\n",
    "imageio.mimsave('/Users/wudw/Documents/GitRepos/10_492A/figures/rectangular/rectangular_1000_0.01.gif', images, fps=30)"
   ]
  },
  {
   "cell_type": "code",
   "execution_count": 7,
   "metadata": {},
   "outputs": [
    {
     "name": "stderr",
     "output_type": "stream",
     "text": [
      "/var/folders/_c/3843qt453ds6klt3y95rpjcw0000gn/T/ipykernel_48099/1034230321.py:5: DeprecationWarning: Starting with ImageIO v3 the behavior of this function will switch to that of iio.v3.imread. To keep the current behavior (and make this warning disappear) use `import imageio.v2 as imageio` or call `imageio.v2.imread` directly.\n",
      "  images.append(imageio.imread(filename))\n"
     ]
    }
   ],
   "source": [
    "string = \"/Users/wudw/Documents/GitRepos/10_492A/figures/curved/{file}\"\n",
    "files = [string.format(file=f\"peclet_10000.0_step_{x}.png\") for x in range(201)]\n",
    "images = []\n",
    "for filename in files:\n",
    "    images.append(imageio.imread(filename))\n",
    "imageio.mimsave('/Users/wudw/Documents/GitRepos/10_492A/figures/curved/curved_1000_0.01.gif', images, fps=30)"
   ]
  }
 ],
 "metadata": {
  "kernelspec": {
   "display_name": "CoupledEPCondensates",
   "language": "python",
   "name": "python3"
  },
  "language_info": {
   "codemirror_mode": {
    "name": "ipython",
    "version": 3
   },
   "file_extension": ".py",
   "mimetype": "text/x-python",
   "name": "python",
   "nbconvert_exporter": "python",
   "pygments_lexer": "ipython3",
   "version": "3.11.0"
  }
 },
 "nbformat": 4,
 "nbformat_minor": 2
}
